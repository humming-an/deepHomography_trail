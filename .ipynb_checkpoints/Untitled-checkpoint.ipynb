{
 "cells": [
  {
   "cell_type": "code",
   "execution_count": 2,
   "metadata": {},
   "outputs": [
    {
     "ename": "NameError",
     "evalue": "name 'source' is not defined",
     "output_type": "error",
     "traceback": [
      "\u001b[0;31m---------------------------------------------------------------------------\u001b[0m",
      "\u001b[0;31mNameError\u001b[0m                                 Traceback (most recent call last)",
      "\u001b[0;32m<ipython-input-2-080276b5acc1>\u001b[0m in \u001b[0;36m<module>\u001b[0;34m\u001b[0m\n\u001b[1;32m      3\u001b[0m \u001b[0;34m\u001b[0m\u001b[0m\n\u001b[1;32m      4\u001b[0m \u001b[0;34m\u001b[0m\u001b[0m\n\u001b[0;32m----> 5\u001b[0;31m \u001b[0mH_AB\u001b[0m \u001b[0;34m=\u001b[0m \u001b[0mcv2\u001b[0m\u001b[0;34m.\u001b[0m\u001b[0mgetPerspectiveTransform\u001b[0m\u001b[0;34m(\u001b[0m\u001b[0msource\u001b[0m\u001b[0;34m,\u001b[0m \u001b[0mdst\u001b[0m\u001b[0;34m)\u001b[0m\u001b[0;34m\u001b[0m\u001b[0;34m\u001b[0m\u001b[0m\n\u001b[0m\u001b[1;32m      6\u001b[0m \u001b[0mH_BA\u001b[0m \u001b[0;34m=\u001b[0m \u001b[0mnp\u001b[0m\u001b[0;34m.\u001b[0m\u001b[0mlinalg\u001b[0m\u001b[0;34m.\u001b[0m\u001b[0minv\u001b[0m\u001b[0;34m(\u001b[0m\u001b[0mH_AB\u001b[0m\u001b[0;34m)\u001b[0m\u001b[0;34m\u001b[0m\u001b[0;34m\u001b[0m\u001b[0m\n\u001b[1;32m      7\u001b[0m \u001b[0mappliedImg\u001b[0m \u001b[0;34m=\u001b[0m \u001b[0mnp\u001b[0m\u001b[0;34m.\u001b[0m\u001b[0marray\u001b[0m\u001b[0;34m(\u001b[0m\u001b[0mcv2\u001b[0m\u001b[0;34m.\u001b[0m\u001b[0mwarpPerspective\u001b[0m\u001b[0;34m(\u001b[0m\u001b[0mimage\u001b[0m\u001b[0;34m,\u001b[0m \u001b[0mH_BA\u001b[0m\u001b[0;34m,\u001b[0m \u001b[0mdsize\u001b[0m\u001b[0;34m=\u001b[0m\u001b[0;34m(\u001b[0m\u001b[0mimage\u001b[0m\u001b[0;34m.\u001b[0m\u001b[0mshape\u001b[0m\u001b[0;34m[\u001b[0m\u001b[0;36m1\u001b[0m\u001b[0;34m]\u001b[0m\u001b[0;34m,\u001b[0m \u001b[0mimage\u001b[0m\u001b[0;34m.\u001b[0m\u001b[0mshape\u001b[0m\u001b[0;34m[\u001b[0m\u001b[0;36m0\u001b[0m\u001b[0;34m]\u001b[0m\u001b[0;34m)\u001b[0m\u001b[0;34m)\u001b[0m\u001b[0;34m,\u001b[0m \u001b[0mdtype\u001b[0m\u001b[0;34m=\u001b[0m\u001b[0mnp\u001b[0m\u001b[0;34m.\u001b[0m\u001b[0muint8\u001b[0m\u001b[0;34m)\u001b[0m\u001b[0;34m\u001b[0m\u001b[0;34m\u001b[0m\u001b[0m\n",
      "\u001b[0;31mNameError\u001b[0m: name 'source' is not defined"
     ]
    }
   ],
   "source": [
    "import numpy as np\n",
    "import cv2\n",
    "\n",
    "\n",
    "cv2.imshow()\n",
    "\n",
    "def randomCreatePatch(self, image, position):\n",
    "        croppedImage = image[position[1]: position[1] + self.patchSize, position[0]:position[0] + self.patchSize]\n",
    "        H = np.random.randint(-self.pValue, self.pValue, size=(4, 2))\n",
    "        src = np.array([\n",
    "            position\n",
    "            , [position[0] + self.patchSize, position[1]]\n",
    "            , [position[0] + self.patchSize, position[1] + self.patchSize]\n",
    "            , [position[0], position[1] + self.patchSize]\n",
    "        ], dtype=np.float32)\n",
    "\n",
    "        dest = np.array(src + H, dtype=np.float32)\n",
    "        H_AB = cv2.getPerspectiveTransform(src, dest)\n",
    "        H_BA = np.linalg.inv(H_AB)\n",
    "        appliedImg = cv2.warpPerspective(image, H_BA, dsize=(image.shape[1], image.shape[0]))\n",
    "        croppedAppliedImage = appliedImg[position[1]: position[1] + self.patchSize,\n",
    "                              position[0]:position[0] + self.patchSize]\n",
    "        return croppedImage, croppedAppliedImage, H, H_AB\n",
    "    \n",
    "\n",
    "H_AB = cv2.getPerspectiveTransform(source, dst)\n",
    "H_BA = np.linalg.inv(H_AB)\n",
    "appliedImg = np.array(cv2.warpPerspective(image, H_BA, dsize=(image.shape[1], image.shape[0])), dtype=np.uint8)\n",
    "croppedImg = np.array(image[pos[1]: pos[1] + patchSize, pos[0]:pos[0] + patchSize], dtype=np.uint8)\n",
    "croppedAppliedImage = np.array(appliedImg[pos[1]: pos[1] + patchSize, pos[0]:pos[0] + patchSize], dtype=np.uint8)\n",
    "\n",
    "position = np.array([0,0], dtype=np.int)\n",
    "src = np.array([\n",
    "         position\n",
    "         ,\n",
    "        [position[0] + patchSize, position[1]]\n",
    "        ,\n",
    "        [position[0] + patchSize, position[1] + patchSize]\n",
    "            ,\n",
    "    [position[0], position[1] + patchSize]\n",
    "], dtype=np.float32)\n",
    "\n",
    "dest = np.array(src + Hs[0], dtype=np.float32)\n",
    "H_= cv2.getPerspectiveTransform(src, dest)\n",
    "rAppliedImage = np.array(cv2.warpPerspective(croppedAppliedImage, H_, dsize=(croppedImg.shape[1], croppedImg.shape[0])), dtype=np.uint8)\n",
    "\n",
    "appliedImg = cv2.polylines(appliedImg.copy(), [np.int32(source)], True, 255, 1, cv2.LINE_AA)\n",
    "image = cv2.polylines(image.copy(), [np.int32(source)], True, 255, 1, cv2.LINE_AA)\n",
    "cv2.imshow(appliedImg)\n",
    "cv2.imwrite(\"croppedAppliedImage.png\", croppedAppliedImage)\n",
    "cv2.imwrite(\"croppedImg.png\", croppedImg)\n",
    "cv2.imwrite(\"imag.png\", image)\n",
    "cv2.imwrite(\"rAppliedImage.png\", rAppliedImage)"
   ]
  },
  {
   "cell_type": "code",
   "execution_count": null,
   "metadata": {},
   "outputs": [],
   "source": []
  }
 ],
 "metadata": {
  "kernelspec": {
   "display_name": "Python 3",
   "language": "python",
   "name": "python3"
  },
  "language_info": {
   "codemirror_mode": {
    "name": "ipython",
    "version": 3
   },
   "file_extension": ".py",
   "mimetype": "text/x-python",
   "name": "python",
   "nbconvert_exporter": "python",
   "pygments_lexer": "ipython3",
   "version": "3.7.7"
  }
 },
 "nbformat": 4,
 "nbformat_minor": 4
}
